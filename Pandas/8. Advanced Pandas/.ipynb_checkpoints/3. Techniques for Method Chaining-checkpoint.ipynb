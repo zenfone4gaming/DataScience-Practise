{
 "cells": [
  {
   "cell_type": "code",
   "execution_count": null,
   "metadata": {},
   "outputs": [],
   "source": [
    "df = load_data()\n",
    "df2 = df[df['col2'] < 0]\n",
    "df2['col1_demeaned'] = df2['col1'] - df2['col1'].mean()\n",
    "result = df2.groupby('key').col1_demeaned.std()"
   ]
  },
  {
   "cell_type": "code",
   "execution_count": null,
   "metadata": {},
   "outputs": [],
   "source": [
    "# Usual non-functional way\n",
    "df2 = df.copy()\n",
    "df2['k'] = v"
   ]
  },
  {
   "cell_type": "code",
   "execution_count": null,
   "metadata": {},
   "outputs": [],
   "source": [
    "# functional assign way\n",
    "df2 = df.assign(k=v)"
   ]
  },
  {
   "cell_type": "code",
   "execution_count": null,
   "metadata": {},
   "outputs": [],
   "source": [
    "result = (df2.assign(col1_demeaned = df2.col1 - df2.col2.mean())\n",
    "          .groupby('key')\n",
    "          .col1_demeaned.std()\n",
    "         )"
   ]
  },
  {
   "cell_type": "code",
   "execution_count": 1,
   "metadata": {},
   "outputs": [],
   "source": [
    "#One thing to keep in mind when doing method chaining is that you may need to refer to temprary objects. In the\n",
    "#Preceding example, we cannot refer to the result of load_data util it has been assigned to the temporary variable df.\n",
    "#To help with this, assign and many other pandas functions accept function like arguments, also know as callables."
   ]
  },
  {
   "cell_type": "code",
   "execution_count": 2,
   "metadata": {},
   "outputs": [],
   "source": [
    "#To show callables in action, consider a fragment of the example from before:"
   ]
  },
  {
   "cell_type": "code",
   "execution_count": 5,
   "metadata": {},
   "outputs": [],
   "source": [
    "df = load_data()\n",
    "df2 = df[df['col2'] < 0]\n",
    "# This can be rewritten as"
   ]
  },
  {
   "cell_type": "code",
   "execution_count": null,
   "metadata": {},
   "outputs": [],
   "source": [
    "df = (load_data()\n",
    "      [lambda x: x.col2 < 0])\n",
    "#Here, the result of load_data is not assigned to a variable, so the function passed into []\n",
    "#is the bound to the object at that stage of the method chain."
   ]
  },
  {
   "cell_type": "markdown",
   "metadata": {},
   "source": [
    "#We can continue, then and write the entire seq as a single chained expression:\n",
    "result = (load_data\n",
    "         [lambda x: x.col2 > 0]\n",
    "         .assign(col1_demeaned = lambda x: x.col1 - x.col1.mean())\n",
    "         .groupby('key')\n",
    "         .col1_demeaned.std() )"
   ]
  },
  {
   "cell_type": "markdown",
   "metadata": {},
   "source": [
    "# The pipe Method"
   ]
  },
  {
   "cell_type": "code",
   "execution_count": 6,
   "metadata": {},
   "outputs": [],
   "source": [
    "#You can accomplish a lot with built-in pandas functions and the approches to method chaining with\n",
    "#callables that we just looked at. However, sometimes you need to use your own functions or functions\n",
    "#from third-party libraries. This is where the pipe method comes in."
   ]
  },
  {
   "cell_type": "code",
   "execution_count": null,
   "metadata": {},
   "outputs": [],
   "source": [
    "a = f(df, arg1=v1)\n",
    "b = g(a, v2, arg3=v3) \n",
    "c = h(b, arg4=v4)"
   ]
  },
  {
   "cell_type": "code",
   "execution_count": null,
   "metadata": {},
   "outputs": [],
   "source": [
    "#When using functions that accept and return Series or DataFrame objects, you can rewrite this using calls to pipe:\n",
    "result = (df.pipe(f, arg1=v1)\n",
    "            .pipe(g, v2, arg3=v3)\n",
    "            .pipe(g, arg4=v4))"
   ]
  },
  {
   "cell_type": "code",
   "execution_count": 7,
   "metadata": {},
   "outputs": [],
   "source": [
    "#The statement f(df) and df.pipe(f) are equi, but pipe makes chained invocation easier."
   ]
  },
  {
   "cell_type": "code",
   "execution_count": null,
   "metadata": {},
   "outputs": [],
   "source": [
    "def group_demean(df, by, cols):\n",
    "    result =  df.copy()\n",
    "    g = df.groupby(by)\n",
    "    for c in cols:\n",
    "        result[c] = df[c] - g[c].transform('mean')\n",
    "    return result"
   ]
  },
  {
   "cell_type": "code",
   "execution_count": null,
   "metadata": {},
   "outputs": [],
   "source": [
    "#Then it is possible to write:\n",
    "result = (df[df.col1 < 0]\n",
    "          .pipe(group_dmean, ['key1', 'key2'], ['col1']))\n"
   ]
  }
 ],
 "metadata": {
  "kernelspec": {
   "display_name": "Python 3",
   "language": "python",
   "name": "python3"
  },
  "language_info": {
   "codemirror_mode": {
    "name": "ipython",
    "version": 3
   },
   "file_extension": ".py",
   "mimetype": "text/x-python",
   "name": "python",
   "nbconvert_exporter": "python",
   "pygments_lexer": "ipython3",
   "version": "3.7.4"
  }
 },
 "nbformat": 4,
 "nbformat_minor": 2
}
